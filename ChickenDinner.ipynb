{
  "metadata": {
    "language_info": {
      "codemirror_mode": {
        "name": "python",
        "version": 3
      },
      "file_extension": ".py",
      "mimetype": "text/x-python",
      "name": "python",
      "nbconvert_exporter": "python",
      "pygments_lexer": "ipython3",
      "version": "3.8"
    },
    "kernelspec": {
      "name": "python",
      "display_name": "Pyolite",
      "language": "python"
    }
  },
  "nbformat_minor": 4,
  "nbformat": 4,
  "cells": [
    {
      "cell_type": "code",
      "source": "import random",
      "metadata": {
        "trusted": true
      },
      "execution_count": 1,
      "outputs": []
    },
    {
      "cell_type": "code",
      "source": "names = {\n1: \"Epicenter\", \n2: \"Zandon\",\n3: \"White Abarrio\",\n4: \"Mo Donegal\",\n5: \"Tiz the Bomb\",\n6: \"Cyberknife\",\n7: \"Crown Pride\",\n8: \"Taiba\",\n9: \"Simplification\",\n10: \"Smile Happy\",\n11: \"Classic Causeway\",\n12: \"Tawny Port\",\n13: \"Barber Road\",\n14: \"Un Ojo\",\n15: \"Messier\",\n16: \"Zozos\",\n17: \"Summer Is Tomorrow\",\n18: \"Charge It\",\n19: \"Happy Jack\",\n20: \"Pioneer of Medina\" \n}",
      "metadata": {
        "trusted": true
      },
      "execution_count": 2,
      "outputs": []
    },
    {
      "cell_type": "code",
      "source": "pick = names[random.randint(1,20)]\nprint(pick)",
      "metadata": {
        "trusted": true
      },
      "execution_count": 9,
      "outputs": [
        {
          "name": "stdout",
          "text": "Cyberknife\n",
          "output_type": "stream"
        }
      ]
    },
    {
      "cell_type": "code",
      "source": "print(pick)",
      "metadata": {
        "trusted": true
      },
      "execution_count": 8,
      "outputs": [
        {
          "name": "stdout",
          "text": "Un Ojo\n",
          "output_type": "stream"
        }
      ]
    },
    {
      "cell_type": "code",
      "source": "",
      "metadata": {},
      "execution_count": null,
      "outputs": []
    }
  ]
}